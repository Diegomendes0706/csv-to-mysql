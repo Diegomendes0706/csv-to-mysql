{
 "cells": [
  {
   "cell_type": "code",
   "execution_count": 1,
   "id": "8f442206",
   "metadata": {},
   "outputs": [],
   "source": [
    "import mysql.connector\n",
    "from mysql.connector import errorcode\n",
    "import csv"
   ]
  },
  {
   "cell_type": "code",
   "execution_count": 10,
   "id": "a94f1e45",
   "metadata": {},
   "outputs": [],
   "source": [
    "db= mysql.connector.connect(\n",
    "    user= 'root',\n",
    "    password= 'W@2915djkq#',\n",
    "    host= 'localhost',\n",
    "    database= 'client'\n",
    ")\n",
    "cursor = db.cursor()"
   ]
  },
  {
   "cell_type": "code",
   "execution_count": 22,
   "id": "aae2e891",
   "metadata": {},
   "outputs": [],
   "source": [
    "csv_file_path = r\"C:\\Users\\diego\\OneDrive\\Documentos\\curso de python\\data science\\weather.csv\"\n",
    "csv_data = csv.reader(open(csv_file_path))\n",
    "header = next(csv_data)"
   ]
  },
  {
   "cell_type": "code",
   "execution_count": 20,
   "id": "627b041c",
   "metadata": {},
   "outputs": [],
   "source": [
    "cursor.execute(\"CREATE TABLE example5(date VARCHAR(10), city VARCHAR(30),temperature INT, humidity INT)\")"
   ]
  },
  {
   "cell_type": "code",
   "execution_count": 21,
   "id": "3ac251c0",
   "metadata": {},
   "outputs": [
    {
     "name": "stdout",
     "output_type": "stream",
     "text": [
      "importing file...\n",
      "Done\n"
     ]
    }
   ],
   "source": [
    "print('importing file...')\n",
    "for row in csv_data:\n",
    "    cursor.execute('INSERT INTO example5 (date, city, temperature, humidity) VALUES (%s,%s,%s,%s)', row)\n",
    "\n",
    "db.commit()\n",
    "cursor.close()\n",
    "print('Done')"
   ]
  },
  {
   "cell_type": "code",
   "execution_count": null,
   "id": "238d8d78",
   "metadata": {},
   "outputs": [],
   "source": []
  }
 ],
 "metadata": {
  "kernelspec": {
   "display_name": "Python 3 (ipykernel)",
   "language": "python",
   "name": "python3"
  },
  "language_info": {
   "codemirror_mode": {
    "name": "ipython",
    "version": 3
   },
   "file_extension": ".py",
   "mimetype": "text/x-python",
   "name": "python",
   "nbconvert_exporter": "python",
   "pygments_lexer": "ipython3",
   "version": "3.11.5"
  }
 },
 "nbformat": 4,
 "nbformat_minor": 5
}
